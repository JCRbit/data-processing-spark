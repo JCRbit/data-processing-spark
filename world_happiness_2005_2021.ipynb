{
  "nbformat": 4,
  "nbformat_minor": 0,
  "metadata": {
    "colab": {
      "provenance": []
    },
    "kernelspec": {
      "name": "python3",
      "display_name": "Python 3"
    },
    "language_info": {
      "name": "python"
    }
  },
  "cells": [
    {
      "cell_type": "markdown",
      "source": [
        "# Proyecto: Big Data Processing"
      ],
      "metadata": {
        "id": "4XYQbkdSkTIx"
      }
    },
    {
      "cell_type": "code",
      "execution_count": 1,
      "metadata": {
        "colab": {
          "base_uri": "https://localhost:8080/"
        },
        "id": "P56m5ho9kqbp",
        "outputId": "414c1fcd-b300-475b-b9ef-eff9a20ad722"
      },
      "outputs": [
        {
          "output_type": "stream",
          "name": "stdout",
          "text": [
            "Looking in indexes: https://pypi.org/simple, https://us-python.pkg.dev/colab-wheels/public/simple/\n",
            "Collecting pyspark\n",
            "  Downloading pyspark-3.3.2.tar.gz (281.4 MB)\n",
            "\u001b[2K     \u001b[90m━━━━━━━━━━━━━━━━━━━━━━━━━━━━━━━━━━━━━━━\u001b[0m \u001b[32m281.4/281.4 MB\u001b[0m \u001b[31m5.2 MB/s\u001b[0m eta \u001b[36m0:00:00\u001b[0m\n",
            "\u001b[?25h  Preparing metadata (setup.py) ... \u001b[?25l\u001b[?25hdone\n",
            "Collecting py4j==0.10.9.5\n",
            "  Downloading py4j-0.10.9.5-py2.py3-none-any.whl (199 kB)\n",
            "\u001b[2K     \u001b[90m━━━━━━━━━━━━━━━━━━━━━━━━━━━━━━━━━━━━━━\u001b[0m \u001b[32m199.7/199.7 KB\u001b[0m \u001b[31m25.2 MB/s\u001b[0m eta \u001b[36m0:00:00\u001b[0m\n",
            "\u001b[?25hBuilding wheels for collected packages: pyspark\n",
            "  Building wheel for pyspark (setup.py) ... \u001b[?25l\u001b[?25hdone\n",
            "  Created wheel for pyspark: filename=pyspark-3.3.2-py2.py3-none-any.whl size=281824028 sha256=c8634abe508fe982096b50a84905d99f753e352719665e039c94f6d1345f009c\n",
            "  Stored in directory: /root/.cache/pip/wheels/6c/e3/9b/0525ce8a69478916513509d43693511463c6468db0de237c86\n",
            "Successfully built pyspark\n",
            "Installing collected packages: py4j, pyspark\n",
            "  Attempting uninstall: py4j\n",
            "    Found existing installation: py4j 0.10.9.7\n",
            "    Uninstalling py4j-0.10.9.7:\n",
            "      Successfully uninstalled py4j-0.10.9.7\n",
            "Successfully installed py4j-0.10.9.5 pyspark-3.3.2\n"
          ]
        }
      ],
      "source": [
        "!pip install pyspark"
      ]
    },
    {
      "cell_type": "code",
      "source": [
        "# Upload data files\n",
        "from google.colab import files\n",
        "uploaded = files.upload()"
      ],
      "metadata": {
        "colab": {
          "base_uri": "https://localhost:8080/",
          "height": 107
        },
        "id": "ENeP2sVleoMe",
        "outputId": "49bb711e-4d82-4df6-ecf7-7f4c69b7177d"
      },
      "execution_count": 2,
      "outputs": [
        {
          "output_type": "display_data",
          "data": {
            "text/plain": [
              "<IPython.core.display.HTML object>"
            ],
            "text/html": [
              "\n",
              "     <input type=\"file\" id=\"files-24cc9af5-91c6-4287-8f7a-1922f7c0f48b\" name=\"files[]\" multiple disabled\n",
              "        style=\"border:none\" />\n",
              "     <output id=\"result-24cc9af5-91c6-4287-8f7a-1922f7c0f48b\">\n",
              "      Upload widget is only available when the cell has been executed in the\n",
              "      current browser session. Please rerun this cell to enable.\n",
              "      </output>\n",
              "      <script>// Copyright 2017 Google LLC\n",
              "//\n",
              "// Licensed under the Apache License, Version 2.0 (the \"License\");\n",
              "// you may not use this file except in compliance with the License.\n",
              "// You may obtain a copy of the License at\n",
              "//\n",
              "//      http://www.apache.org/licenses/LICENSE-2.0\n",
              "//\n",
              "// Unless required by applicable law or agreed to in writing, software\n",
              "// distributed under the License is distributed on an \"AS IS\" BASIS,\n",
              "// WITHOUT WARRANTIES OR CONDITIONS OF ANY KIND, either express or implied.\n",
              "// See the License for the specific language governing permissions and\n",
              "// limitations under the License.\n",
              "\n",
              "/**\n",
              " * @fileoverview Helpers for google.colab Python module.\n",
              " */\n",
              "(function(scope) {\n",
              "function span(text, styleAttributes = {}) {\n",
              "  const element = document.createElement('span');\n",
              "  element.textContent = text;\n",
              "  for (const key of Object.keys(styleAttributes)) {\n",
              "    element.style[key] = styleAttributes[key];\n",
              "  }\n",
              "  return element;\n",
              "}\n",
              "\n",
              "// Max number of bytes which will be uploaded at a time.\n",
              "const MAX_PAYLOAD_SIZE = 100 * 1024;\n",
              "\n",
              "function _uploadFiles(inputId, outputId) {\n",
              "  const steps = uploadFilesStep(inputId, outputId);\n",
              "  const outputElement = document.getElementById(outputId);\n",
              "  // Cache steps on the outputElement to make it available for the next call\n",
              "  // to uploadFilesContinue from Python.\n",
              "  outputElement.steps = steps;\n",
              "\n",
              "  return _uploadFilesContinue(outputId);\n",
              "}\n",
              "\n",
              "// This is roughly an async generator (not supported in the browser yet),\n",
              "// where there are multiple asynchronous steps and the Python side is going\n",
              "// to poll for completion of each step.\n",
              "// This uses a Promise to block the python side on completion of each step,\n",
              "// then passes the result of the previous step as the input to the next step.\n",
              "function _uploadFilesContinue(outputId) {\n",
              "  const outputElement = document.getElementById(outputId);\n",
              "  const steps = outputElement.steps;\n",
              "\n",
              "  const next = steps.next(outputElement.lastPromiseValue);\n",
              "  return Promise.resolve(next.value.promise).then((value) => {\n",
              "    // Cache the last promise value to make it available to the next\n",
              "    // step of the generator.\n",
              "    outputElement.lastPromiseValue = value;\n",
              "    return next.value.response;\n",
              "  });\n",
              "}\n",
              "\n",
              "/**\n",
              " * Generator function which is called between each async step of the upload\n",
              " * process.\n",
              " * @param {string} inputId Element ID of the input file picker element.\n",
              " * @param {string} outputId Element ID of the output display.\n",
              " * @return {!Iterable<!Object>} Iterable of next steps.\n",
              " */\n",
              "function* uploadFilesStep(inputId, outputId) {\n",
              "  const inputElement = document.getElementById(inputId);\n",
              "  inputElement.disabled = false;\n",
              "\n",
              "  const outputElement = document.getElementById(outputId);\n",
              "  outputElement.innerHTML = '';\n",
              "\n",
              "  const pickedPromise = new Promise((resolve) => {\n",
              "    inputElement.addEventListener('change', (e) => {\n",
              "      resolve(e.target.files);\n",
              "    });\n",
              "  });\n",
              "\n",
              "  const cancel = document.createElement('button');\n",
              "  inputElement.parentElement.appendChild(cancel);\n",
              "  cancel.textContent = 'Cancel upload';\n",
              "  const cancelPromise = new Promise((resolve) => {\n",
              "    cancel.onclick = () => {\n",
              "      resolve(null);\n",
              "    };\n",
              "  });\n",
              "\n",
              "  // Wait for the user to pick the files.\n",
              "  const files = yield {\n",
              "    promise: Promise.race([pickedPromise, cancelPromise]),\n",
              "    response: {\n",
              "      action: 'starting',\n",
              "    }\n",
              "  };\n",
              "\n",
              "  cancel.remove();\n",
              "\n",
              "  // Disable the input element since further picks are not allowed.\n",
              "  inputElement.disabled = true;\n",
              "\n",
              "  if (!files) {\n",
              "    return {\n",
              "      response: {\n",
              "        action: 'complete',\n",
              "      }\n",
              "    };\n",
              "  }\n",
              "\n",
              "  for (const file of files) {\n",
              "    const li = document.createElement('li');\n",
              "    li.append(span(file.name, {fontWeight: 'bold'}));\n",
              "    li.append(span(\n",
              "        `(${file.type || 'n/a'}) - ${file.size} bytes, ` +\n",
              "        `last modified: ${\n",
              "            file.lastModifiedDate ? file.lastModifiedDate.toLocaleDateString() :\n",
              "                                    'n/a'} - `));\n",
              "    const percent = span('0% done');\n",
              "    li.appendChild(percent);\n",
              "\n",
              "    outputElement.appendChild(li);\n",
              "\n",
              "    const fileDataPromise = new Promise((resolve) => {\n",
              "      const reader = new FileReader();\n",
              "      reader.onload = (e) => {\n",
              "        resolve(e.target.result);\n",
              "      };\n",
              "      reader.readAsArrayBuffer(file);\n",
              "    });\n",
              "    // Wait for the data to be ready.\n",
              "    let fileData = yield {\n",
              "      promise: fileDataPromise,\n",
              "      response: {\n",
              "        action: 'continue',\n",
              "      }\n",
              "    };\n",
              "\n",
              "    // Use a chunked sending to avoid message size limits. See b/62115660.\n",
              "    let position = 0;\n",
              "    do {\n",
              "      const length = Math.min(fileData.byteLength - position, MAX_PAYLOAD_SIZE);\n",
              "      const chunk = new Uint8Array(fileData, position, length);\n",
              "      position += length;\n",
              "\n",
              "      const base64 = btoa(String.fromCharCode.apply(null, chunk));\n",
              "      yield {\n",
              "        response: {\n",
              "          action: 'append',\n",
              "          file: file.name,\n",
              "          data: base64,\n",
              "        },\n",
              "      };\n",
              "\n",
              "      let percentDone = fileData.byteLength === 0 ?\n",
              "          100 :\n",
              "          Math.round((position / fileData.byteLength) * 100);\n",
              "      percent.textContent = `${percentDone}% done`;\n",
              "\n",
              "    } while (position < fileData.byteLength);\n",
              "  }\n",
              "\n",
              "  // All done.\n",
              "  yield {\n",
              "    response: {\n",
              "      action: 'complete',\n",
              "    }\n",
              "  };\n",
              "}\n",
              "\n",
              "scope.google = scope.google || {};\n",
              "scope.google.colab = scope.google.colab || {};\n",
              "scope.google.colab._files = {\n",
              "  _uploadFiles,\n",
              "  _uploadFilesContinue,\n",
              "};\n",
              "})(self);\n",
              "</script> "
            ]
          },
          "metadata": {}
        },
        {
          "output_type": "stream",
          "name": "stdout",
          "text": [
            "Saving world-happiness-report.csv to world-happiness-report.csv\n",
            "Saving world-happiness-report-2021.csv to world-happiness-report-2021.csv\n"
          ]
        }
      ]
    },
    {
      "cell_type": "code",
      "source": [
        "from pyspark.sql import SparkSession\n",
        "\n",
        "# Create SparkSession object\n",
        "spark = SparkSession.builder \\\n",
        "    .appName(\"World Happineess 2005-2021\") \\\n",
        "    .config(\"spark.some.config.option\", \"some-value\") \\\n",
        "    .getOrCreate()"
      ],
      "metadata": {
        "id": "H6Q3_IyJlHVP"
      },
      "execution_count": 3,
      "outputs": []
    },
    {
      "cell_type": "code",
      "source": [
        "from pyspark.sql.types import *\n",
        "\n",
        "# Define data schemas\n",
        "world_happiness_2005_2020_schema = StructType([\n",
        "    StructField(\"Country name\", StringType(), True),\n",
        "    StructField(\"Year\", IntegerType(), True),\n",
        "    StructField(\"Life Ladder\", FloatType(), True),\n",
        "    StructField(\"Log GDP per capita\", FloatType(), True),\n",
        "    StructField(\"Social support\", FloatType(), True),\n",
        "    StructField(\"Healthy life expectancy at birth\", FloatType(), True),\n",
        "    StructField(\"Freedom to make life choices\", FloatType(), True),\n",
        "    StructField(\"Generosity\", FloatType(), True),\n",
        "    StructField(\"Perceptions of corruption\", FloatType(), True),\n",
        "    StructField(\"Positive affect\", FloatType(), True),\n",
        "    StructField(\"Negative affect\", FloatType(), True),\n",
        "]) \n",
        "\n",
        "world_happiness_2021_schema = StructType([\n",
        "    StructField(\"Country name\", StringType(), True),\n",
        "    StructField(\"Regional indicator\", StringType(), True),\n",
        "    StructField(\"Ladder score\", FloatType(), True),\n",
        "    StructField(\"Standard error of ladder score\", FloatType(), True),\n",
        "    StructField(\"upperwhisker\", FloatType(), True),\n",
        "    StructField(\"lowerwhisker\", FloatType(), True),\n",
        "    StructField(\"Logged GDP per capita\", FloatType(), True),\n",
        "    StructField(\"Social support\", FloatType(), True),\n",
        "    StructField(\"Healthy life expectancy\", FloatType(), True),\n",
        "    StructField(\"Freedom to make life choices\", FloatType(), True),\n",
        "    StructField(\"Generosity\", FloatType(), True),\n",
        "    StructField(\"Ladder score in Dystopia\", FloatType(), True),\n",
        "    StructField(\"Explained by: Log GDP per capita\", FloatType(), True),\n",
        "    StructField(\"Explained by: Social support\", FloatType(), True),\n",
        "    StructField(\"Explained by: Healthy life expectancy\", FloatType(), True),\n",
        "    StructField(\"Explained by: Freedom to make life choices\", FloatType(), True),\n",
        "    StructField(\"Explained by: Generosity\", FloatType(), True),\n",
        "    StructField(\"Explained by: Perceptions of corruption\", FloatType(), True),\n",
        "    StructField(\"Dystopia + residual\", FloatType(), True),\n",
        "]) "
      ],
      "metadata": {
        "id": "lHcIPcMIKYNk"
      },
      "execution_count": 4,
      "outputs": []
    },
    {
      "cell_type": "code",
      "source": [
        "# Read csv data files and create DataFrames\n",
        "world_happiness_2005_2020_df = spark.read.csv(\n",
        "    \"world-happiness-report.csv\", \n",
        "    header=True, schema=world_happiness_2005_2020_schema, sep=\",\")\n",
        "\n",
        "world_happiness_2021_df = spark.read.csv(\n",
        "    \"world-happiness-report-2021.csv\", \n",
        "    header=True, schema=world_happiness_2021_schema, sep=\",\")"
      ],
      "metadata": {
        "id": "8_LvHR-_lapE"
      },
      "execution_count": 5,
      "outputs": []
    },
    {
      "cell_type": "code",
      "source": [
        "# Create Country-Region DataFrame\n",
        "country_region_df = world_happiness_2021_df.groupBy(\"Country name\", \"Regional indicator\").count() \\\n",
        "    .withColumnRenamed(\"Country name\", \"Country\") \n",
        "\n",
        "\n",
        "world_happiness_2005_2020_cols = (\n",
        "    \"Country name\",\n",
        "    \"Regional indicator\",\n",
        "    \"Year\",\n",
        "    \"Life Ladder\",\n",
        "    \"Log GDP per capita\",\n",
        "    \"Healthy life expectancy at birth\"\n",
        ")\n",
        "\n",
        "# Create Region column, select and rename target columns\n",
        "world_2005_2020_df = world_happiness_2005_2020_df.join(country_region_df, world_happiness_2005_2020_df[\"Country name\"] == country_region_df[\"Country\"], \"left\") \\\n",
        "    .select(*world_happiness_2005_2020_cols) \\\n",
        "    .withColumnRenamed(\"Country name\", \"Country\") \\\n",
        "    .withColumnRenamed(\"Regional indicator\", \"Region\") \\\n",
        "    .withColumnRenamed(\"Life Ladder\", \"Ladder Score\") \\\n",
        "    .withColumnRenamed(\"Healthy life expectancy at birth\", \"Healthy life expectancy\"\n",
        "    )\n",
        "\n",
        "world_2005_2020_df.printSchema()"
      ],
      "metadata": {
        "colab": {
          "base_uri": "https://localhost:8080/"
        },
        "id": "PJyz7bcxOn2y",
        "outputId": "fab7db5c-5eb9-4d5f-e2c5-573540ba76d8"
      },
      "execution_count": 6,
      "outputs": [
        {
          "output_type": "stream",
          "name": "stdout",
          "text": [
            "root\n",
            " |-- Country: string (nullable = true)\n",
            " |-- Region: string (nullable = true)\n",
            " |-- Year: integer (nullable = true)\n",
            " |-- Ladder Score: float (nullable = true)\n",
            " |-- Log GDP per capita: float (nullable = true)\n",
            " |-- Healthy life expectancy: float (nullable = true)\n",
            "\n"
          ]
        }
      ]
    },
    {
      "cell_type": "code",
      "source": [
        "from pyspark.sql.functions import lit\n",
        "\n",
        "world_happiness_2021_cols = (\n",
        "    \"Country name\",\n",
        "    \"Regional indicator\",\n",
        "    \"Year\",\n",
        "    \"Ladder score\",\n",
        "    \"Logged GDP per capita\",\n",
        "    \"Healthy life expectancy\"\n",
        ")\n",
        "\n",
        "# Create Year column and select taget columns\n",
        "world_2021_df = world_happiness_2021_df.withColumn(\"Year\", lit(2021)) \\\n",
        "    .select(*world_happiness_2021_cols) \\\n",
        "\n",
        "world_2021_df.printSchema()"
      ],
      "metadata": {
        "colab": {
          "base_uri": "https://localhost:8080/"
        },
        "id": "oTmlmnKLa-4u",
        "outputId": "4562b753-5274-48f1-a89f-255ddf3fa3ee"
      },
      "execution_count": 7,
      "outputs": [
        {
          "output_type": "stream",
          "name": "stdout",
          "text": [
            "root\n",
            " |-- Country name: string (nullable = true)\n",
            " |-- Regional indicator: string (nullable = true)\n",
            " |-- Year: integer (nullable = false)\n",
            " |-- Ladder score: float (nullable = true)\n",
            " |-- Logged GDP per capita: float (nullable = true)\n",
            " |-- Healthy life expectancy: float (nullable = true)\n",
            "\n"
          ]
        }
      ]
    },
    {
      "cell_type": "code",
      "source": [
        "# Union 2005-2020 and 2021 DataFrames\n",
        "world_happiness_2005_2021_df = world_2005_2020_df.union(world_2021_df) \\\n",
        "    .sort(\"Country\", \"Year\")\n",
        "    \n",
        "world_happiness_2005_2021_df.show(15)"
      ],
      "metadata": {
        "colab": {
          "base_uri": "https://localhost:8080/"
        },
        "id": "Za7OAaWmcZnf",
        "outputId": "d0ae6901-0741-4d25-c5fa-f796c6a3875f"
      },
      "execution_count": 8,
      "outputs": [
        {
          "output_type": "stream",
          "name": "stdout",
          "text": [
            "+-----------+--------------------+----+------------+------------------+-----------------------+\n",
            "|    Country|              Region|Year|Ladder Score|Log GDP per capita|Healthy life expectancy|\n",
            "+-----------+--------------------+----+------------+------------------+-----------------------+\n",
            "|Afghanistan|          South Asia|2008|       3.724|              7.37|                   50.8|\n",
            "|Afghanistan|          South Asia|2009|       4.402|              7.54|                   51.2|\n",
            "|Afghanistan|          South Asia|2010|       4.758|             7.647|                   51.6|\n",
            "|Afghanistan|          South Asia|2011|       3.832|              7.62|                  51.92|\n",
            "|Afghanistan|          South Asia|2012|       3.783|             7.705|                  52.24|\n",
            "|Afghanistan|          South Asia|2013|       3.572|             7.725|                  52.56|\n",
            "|Afghanistan|          South Asia|2014|       3.131|             7.718|                  52.88|\n",
            "|Afghanistan|          South Asia|2015|       3.983|             7.702|                   53.2|\n",
            "|Afghanistan|          South Asia|2016|        4.22|             7.697|                   53.0|\n",
            "|Afghanistan|          South Asia|2017|       2.662|             7.697|                   52.8|\n",
            "|Afghanistan|          South Asia|2018|       2.694|             7.692|                   52.6|\n",
            "|Afghanistan|          South Asia|2019|       2.375|             7.697|                   52.4|\n",
            "|Afghanistan|          South Asia|2021|       2.523|             7.695|                 52.493|\n",
            "|    Albania|Central and Easte...|2007|       4.634|             9.142|                   65.8|\n",
            "|    Albania|Central and Easte...|2009|       5.485|             9.262|                   66.2|\n",
            "+-----------+--------------------+----+------------+------------------+-----------------------+\n",
            "only showing top 15 rows\n",
            "\n"
          ]
        }
      ]
    },
    {
      "cell_type": "code",
      "source": [
        "from pyspark.sql.functions import col, when, count\n",
        "\n",
        "# Missing values\n",
        "world_happiness_2005_2021_df.select([count(when(col(c).isNull(), c)).alias(c) for c in world_happiness_2005_2021_df.columns]).show()"
      ],
      "metadata": {
        "colab": {
          "base_uri": "https://localhost:8080/"
        },
        "id": "3K63GBr4d_YF",
        "outputId": "56835aff-7af1-454b-f2f3-fa7812c8b8d5"
      },
      "execution_count": 9,
      "outputs": [
        {
          "output_type": "stream",
          "name": "stdout",
          "text": [
            "+-------+------+----+------------+------------------+-----------------------+\n",
            "|Country|Region|Year|Ladder Score|Log GDP per capita|Healthy life expectancy|\n",
            "+-------+------+----+------------+------------------+-----------------------+\n",
            "|      0|    63|   0|           0|                36|                     55|\n",
            "+-------+------+----+------------+------------------+-----------------------+\n",
            "\n"
          ]
        }
      ]
    },
    {
      "cell_type": "code",
      "source": [
        "# Countries with no Region value\n",
        "world_happiness_2005_2021_df.filter(col(\"Region\").isNull()) \\\n",
        "    .groupBy(\"Country\").count() \\\n",
        "    .drop(\"count\") \\\n",
        "    .show() "
      ],
      "metadata": {
        "colab": {
          "base_uri": "https://localhost:8080/"
        },
        "id": "yuBzmJVR3Qps",
        "outputId": "d19bddb9-ce4f-44d2-cd4b-e8c8aaba53cf"
      },
      "execution_count": 10,
      "outputs": [
        {
          "output_type": "stream",
          "name": "stdout",
          "text": [
            "+--------------------+\n",
            "|             Country|\n",
            "+--------------------+\n",
            "|              Guyana|\n",
            "|            Djibouti|\n",
            "|               Sudan|\n",
            "|              Angola|\n",
            "|               Qatar|\n",
            "|             Somalia|\n",
            "|            Suriname|\n",
            "|                Cuba|\n",
            "|    Congo (Kinshasa)|\n",
            "|Central African R...|\n",
            "|              Bhutan|\n",
            "|                Oman|\n",
            "|               Syria|\n",
            "| Trinidad and Tobago|\n",
            "|   Somaliland region|\n",
            "|         South Sudan|\n",
            "|              Belize|\n",
            "+--------------------+\n",
            "\n"
          ]
        }
      ]
    },
    {
      "cell_type": "markdown",
      "source": [
        "\n",
        "\n",
        "---\n",
        "\n"
      ],
      "metadata": {
        "id": "5ES11Ls8kWO8"
      }
    },
    {
      "cell_type": "markdown",
      "source": [
        "#### 1. ¿Cuál es el país más “feliz” del 2021 según la data?"
      ],
      "metadata": {
        "id": "K33-_Q77il_2"
      }
    },
    {
      "cell_type": "code",
      "source": [
        "from pyspark.sql.functions import desc\n",
        "\n",
        "happiness_2021_df = world_happiness_2005_2021_df.filter(col(\"Year\") == 2021) \n",
        "happiness_2021_df.select(\"Country\", \"Region\", \"Year\", \"Ladder Score\") \\\n",
        "    .sort(desc(\"Ladder Score\")) \\\n",
        "    .show(10, False)  # Finland"
      ],
      "metadata": {
        "colab": {
          "base_uri": "https://localhost:8080/"
        },
        "id": "4LgiQiwhjYVy",
        "outputId": "bc7f8684-2b6d-4738-fb44-49075a0503c6"
      },
      "execution_count": 11,
      "outputs": [
        {
          "output_type": "stream",
          "name": "stdout",
          "text": [
            "+-----------+---------------------+----+------------+\n",
            "|Country    |Region               |Year|Ladder Score|\n",
            "+-----------+---------------------+----+------------+\n",
            "|Finland    |Western Europe       |2021|7.842       |\n",
            "|Denmark    |Western Europe       |2021|7.62        |\n",
            "|Switzerland|Western Europe       |2021|7.571       |\n",
            "|Iceland    |Western Europe       |2021|7.554       |\n",
            "|Netherlands|Western Europe       |2021|7.464       |\n",
            "|Norway     |Western Europe       |2021|7.392       |\n",
            "|Sweden     |Western Europe       |2021|7.363       |\n",
            "|Luxembourg |Western Europe       |2021|7.324       |\n",
            "|New Zealand|North America and ANZ|2021|7.277       |\n",
            "|Austria    |Western Europe       |2021|7.268       |\n",
            "+-----------+---------------------+----+------------+\n",
            "only showing top 10 rows\n",
            "\n"
          ]
        }
      ]
    },
    {
      "cell_type": "markdown",
      "source": [
        "#### 2. ¿Cuál es el país más “feliz” del 2021 por continente según la data?"
      ],
      "metadata": {
        "id": "O72nrHCZjaj3"
      }
    },
    {
      "cell_type": "code",
      "source": [
        "from pyspark.sql.window import Window\n",
        "from pyspark.sql.functions import row_number\n",
        "\n",
        "window_region = Window.partitionBy(\"Region\").orderBy(desc(\"Ladder Score\"))\n",
        "happiness_2021_df.withColumn(\"row\", row_number().over(window_region)) \\\n",
        "  .filter(col(\"row\") == 1).drop(\"row\") \\\n",
        "  .sort(desc(\"Ladder Score\")) \\\n",
        "  .select(\"Country\", \"Region\", \"Ladder Score\") \\\n",
        "  .show(truncate=False)"
      ],
      "metadata": {
        "colab": {
          "base_uri": "https://localhost:8080/"
        },
        "id": "pokB1EtVjaQJ",
        "outputId": "9e8d7cdf-e792-4c9f-ce02-3b0153a3b08e"
      },
      "execution_count": 12,
      "outputs": [
        {
          "output_type": "stream",
          "name": "stdout",
          "text": [
            "+------------------------+----------------------------------+------------+\n",
            "|Country                 |Region                            |Ladder Score|\n",
            "+------------------------+----------------------------------+------------+\n",
            "|Finland                 |Western Europe                    |7.842       |\n",
            "|New Zealand             |North America and ANZ             |7.277       |\n",
            "|Israel                  |Middle East and North Africa      |7.157       |\n",
            "|Costa Rica              |Latin America and Caribbean       |7.069       |\n",
            "|Czech Republic          |Central and Eastern Europe        |6.965       |\n",
            "|Taiwan Province of China|East Asia                         |6.584       |\n",
            "|Singapore               |Southeast Asia                    |6.377       |\n",
            "|Uzbekistan              |Commonwealth of Independent States|6.179       |\n",
            "|Mauritius               |Sub-Saharan Africa                |6.049       |\n",
            "|Nepal                   |South Asia                        |5.269       |\n",
            "+------------------------+----------------------------------+------------+\n",
            "\n"
          ]
        }
      ]
    },
    {
      "cell_type": "markdown",
      "source": [
        "#### 3. ¿Cuál es el país que más veces ocupó el primer lugar en todos los años?"
      ],
      "metadata": {
        "id": "-DePGJFsjbeC"
      }
    },
    {
      "cell_type": "code",
      "source": [
        "window_year = Window.partitionBy(\"Year\").orderBy(desc(\"Ladder Score\"))\n",
        "world_happiness_2005_2021_df.withColumn(\"row\", row_number().over(window_year)) \\\n",
        "  .filter(col(\"row\") == 1).drop(\"row\") \\\n",
        "  .groupBy(\"Country\").count() \\\n",
        "  .sort(desc(\"count\")) \\\n",
        "  .show(truncate=False)  # Finland & Denmark"
      ],
      "metadata": {
        "colab": {
          "base_uri": "https://localhost:8080/"
        },
        "id": "L-hINCSNjcB5",
        "outputId": "1b3808db-eec3-453f-c1a3-df4b0a3216df"
      },
      "execution_count": 13,
      "outputs": [
        {
          "output_type": "stream",
          "name": "stdout",
          "text": [
            "+-----------+-----+\n",
            "|Country    |count|\n",
            "+-----------+-----+\n",
            "|Finland    |7    |\n",
            "|Denmark    |7    |\n",
            "|Norway     |1    |\n",
            "|Switzerland|1    |\n",
            "|Canada     |1    |\n",
            "+-----------+-----+\n",
            "\n"
          ]
        }
      ]
    },
    {
      "cell_type": "markdown",
      "source": [
        "#### 4. ¿Qué puesto de Felicidad tiene el país con mayor GDP del 2020?"
      ],
      "metadata": {
        "id": "oyDXscqSjcwk"
      }
    },
    {
      "cell_type": "code",
      "source": [
        "window = Window.orderBy(desc(\"Ladder Score\"))\n",
        "world_happiness_2005_2021_df.filter(col(\"Year\") == 2020) \\\n",
        "    .withColumn(\"Hapinness Rank\", row_number().over(window)) \\\n",
        "    .drop(\"Healthy life expectancy\") \\\n",
        "    .sort(desc(\"Log GDP per capita\")) \\\n",
        "    .show(10)  # 13"
      ],
      "metadata": {
        "colab": {
          "base_uri": "https://localhost:8080/"
        },
        "id": "jrkPaMFkjdPp",
        "outputId": "779c4b99-e2f2-4c57-9670-2536e4963194"
      },
      "execution_count": 14,
      "outputs": [
        {
          "output_type": "stream",
          "name": "stdout",
          "text": [
            "+--------------------+--------------------+----+------------+------------------+--------------+\n",
            "|             Country|              Region|Year|Ladder Score|Log GDP per capita|Hapinness Rank|\n",
            "+--------------------+--------------------+----+------------+------------------+--------------+\n",
            "|             Ireland|      Western Europe|2020|       7.035|            11.323|            13|\n",
            "|         Switzerland|      Western Europe|2020|       7.508|            11.081|             4|\n",
            "|United Arab Emirates|Middle East and N...|2020|       6.458|            11.053|            27|\n",
            "|              Norway|      Western Europe|2020|        7.29|            11.042|             8|\n",
            "|       United States|North America and...|2020|       7.028|            11.001|            14|\n",
            "|             Denmark|      Western Europe|2020|       7.515|             10.91|             3|\n",
            "|         Netherlands|      Western Europe|2020|       7.504|            10.901|             5|\n",
            "|             Austria|      Western Europe|2020|       7.213|            10.851|            10|\n",
            "|              Sweden|      Western Europe|2020|       7.314|            10.838|             6|\n",
            "|             Germany|      Western Europe|2020|       7.312|            10.833|             7|\n",
            "+--------------------+--------------------+----+------------+------------------+--------------+\n",
            "only showing top 10 rows\n",
            "\n"
          ]
        }
      ]
    },
    {
      "cell_type": "markdown",
      "source": [
        "#### 5. ¿En que porcentaje ha variado a nivel mundial el GDP promedio del 2020 respecto al 2021? ¿Aumentó o disminuyó?"
      ],
      "metadata": {
        "id": "OiiUd32Vjd23"
      }
    },
    {
      "cell_type": "code",
      "source": [
        "from pyspark.sql.functions import exp, avg\n",
        "\n",
        "happiness_2020_df = world_happiness_2005_2021_df.filter(col(\"Year\") == 2020)\n",
        "gdp_2020 = happiness_2020_df.select(avg(exp(\"Log GDP per capita\"))).first()[0]\n",
        "gdp_2021 = happiness_2021_df.select(avg(exp(\"Log GDP per capita\"))).first()[0]\n",
        "rel_variation = gdp_2021 / gdp_2020 - 1\n",
        "print(f\"{rel_variation * 100:.2f}%\")  # -13.01%"
      ],
      "metadata": {
        "id": "iUY7ScgqjeWY",
        "colab": {
          "base_uri": "https://localhost:8080/"
        },
        "outputId": "c38f2094-244f-4849-b373-5e9759a1e221"
      },
      "execution_count": 15,
      "outputs": [
        {
          "output_type": "stream",
          "name": "stdout",
          "text": [
            "-13.01%\n"
          ]
        }
      ]
    },
    {
      "cell_type": "markdown",
      "source": [
        "#### 6. ¿Cuál es el país con mayor expectativa de vida? Y ¿Cuánto tenía en ese indicador en el 2019?"
      ],
      "metadata": {
        "id": "RaURIUHujZzK"
      }
    },
    {
      "cell_type": "code",
      "source": [
        "life_expectancy_2021_df = happiness_2021_df.sort(desc(\"Healthy life expectancy\"))\n",
        "life_expectancy_2021_df.show(10, False)\n",
        "\n",
        "highest_life_expectancy_country = life_expectancy_2021_df.first()[\"Country\"]  # Singapore\n",
        "world_happiness_2005_2021_df.filter((col(\"Country\") == highest_life_expectancy_country) & (col(\"Year\") == 2019)) \\\n",
        "    .select(\"Country\", \"Year\", \"Healthy life expectancy\") \\\n",
        "    .show()  # 77.1 years"
      ],
      "metadata": {
        "colab": {
          "base_uri": "https://localhost:8080/"
        },
        "id": "myP20uxRju_Y",
        "outputId": "1e8f6bb6-e52a-4705-cd21-9f1f3feb78fc"
      },
      "execution_count": 16,
      "outputs": [
        {
          "output_type": "stream",
          "name": "stdout",
          "text": [
            "+-------------------------+---------------------+----+------------+------------------+-----------------------+\n",
            "|Country                  |Region               |Year|Ladder Score|Log GDP per capita|Healthy life expectancy|\n",
            "+-------------------------+---------------------+----+------------+------------------+-----------------------+\n",
            "|Singapore                |Southeast Asia       |2021|6.377       |11.488            |76.953                 |\n",
            "|Hong Kong S.A.R. of China|East Asia            |2021|5.477       |11.0              |76.82                  |\n",
            "|Japan                    |East Asia            |2021|5.94        |10.611            |75.1                   |\n",
            "|Spain                    |Western Europe       |2021|6.491       |10.571            |74.7                   |\n",
            "|Switzerland              |Western Europe       |2021|7.571       |11.117            |74.4                   |\n",
            "|France                   |Western Europe       |2021|6.69        |10.704            |74.0                   |\n",
            "|South Korea              |East Asia            |2021|5.845       |10.651            |73.9                   |\n",
            "|Australia                |North America and ANZ|2021|7.183       |10.796            |73.9                   |\n",
            "|Cyprus                   |Western Europe       |2021|6.223       |10.576            |73.898                 |\n",
            "|North Cyprus             |Western Europe       |2021|5.536       |10.576            |73.898                 |\n",
            "+-------------------------+---------------------+----+------------+------------------+-----------------------+\n",
            "only showing top 10 rows\n",
            "\n",
            "+---------+----+-----------------------+\n",
            "|  Country|Year|Healthy life expectancy|\n",
            "+---------+----+-----------------------+\n",
            "|Singapore|2019|                   77.1|\n",
            "+---------+----+-----------------------+\n",
            "\n"
          ]
        }
      ]
    }
  ]
}